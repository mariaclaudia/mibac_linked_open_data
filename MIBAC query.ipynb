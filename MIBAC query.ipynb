{
 "cells": [
  {
   "cell_type": "markdown",
   "metadata": {},
   "source": [
    "# **Mibac Sparql**\n",
    "\n",
    "http://dati.beniculturali.it/sparql\n",
    "\n",
    "es: Monastero di San Benedetto Sacro Speco\n",
    "http://dati.beniculturali.it/lodview/mibact/luoghi/resource/CulturalInstituteOrSite/20359.html\n",
    "\n",
    "Query esempio: http://dati.beniculturali.it/endpoint-sparql/query-di-esempio/\n",
    "\n",
    "\n",
    "**SPARQL wrapper**\n",
    "\n",
    "https://github.com/RDFLib/sparqlwrapper\n",
    "\n",
    "https://rdflib.github.io/sparqlwrapper/\n",
    "\n"
   ]
  },
  {
   "cell_type": "code",
   "execution_count": 27,
   "metadata": {},
   "outputs": [],
   "source": [
    "from SPARQLWrapper import SPARQLWrapper, JSON, XML "
   ]
  },
  {
   "cell_type": "code",
   "execution_count": 28,
   "metadata": {},
   "outputs": [],
   "source": [
    "ep = \"http://dati.beniculturali.it/sparql\""
   ]
  },
  {
   "cell_type": "code",
   "execution_count": 29,
   "metadata": {},
   "outputs": [],
   "source": [
    "sparql = SPARQLWrapper(ep)"
   ]
  },
  {
   "cell_type": "code",
   "execution_count": 33,
   "metadata": {},
   "outputs": [],
   "source": [
    "q = \"\"\"SELECT ?s ?nome ?provincia \n",
    "WHERE {\n",
    " ?s rdf:type cis:HolderOfArchive .\n",
    " ?s rdfs:label ?nome .\n",
    " ?s cis:hasSite ?location .\n",
    " ?location cis:hasAddress ?location2 .\n",
    " ?location2 cis:adminUnitL2 ?provincia .\n",
    " FILTER( (?provincia= \"Milano\") || \n",
    " (?provincia= \"Brescia\") || \n",
    " (?provincia= \"Bergamo\") || \n",
    " (?provincia= \"Como\") || \n",
    " (?provincia= \"Cremona\") || \n",
    " (?provincia= \"Lecco\") || \n",
    " (?provincia= \"Lodi\") ||\n",
    " (?provincia= \"Pavia\") ||\n",
    " (?provincia= \"Mantova\") ||\n",
    " (?provincia= \"Sondrio\") || \n",
    " (?provincia= \"Varese\") || \n",
    " (?provincia= \"Monza e della Brianza\"))\n",
    "}\n",
    "ORDER BY ?provincia \"\"\"\n"
   ]
  },
  {
   "cell_type": "code",
   "execution_count": 56,
   "metadata": {},
   "outputs": [],
   "source": [
    "q = '''select * where {\n",
    "\n",
    "select distinct ?s as ?subject\n",
    "\n",
    "?Nome_Istituzionale\n",
    "?Descrizione\n",
    "?ISILIdentifier\n",
    "?Latitudine\n",
    "?Longitudine\n",
    "?Disciplina\n",
    "?Indirizzo\n",
    "?Codice_postale\n",
    "?Comune\n",
    "?Provincia\n",
    "where {\n",
    "\n",
    "graph <http://dati.beniculturali.it/mibact/luoghi> {\n",
    "\n",
    "?s rdf:type cis:CulturalInstituteOrSite ;\n",
    "cis:institutionalName ?Nome_Istituzionale .\n",
    "optional { ?s cis:description ?Descrizione }\n",
    "optional { ?s cis:ISILIdentifier ?ISILIdentifier }\n",
    "optional { ?s geo:lat ?Latitudine }\n",
    "optional { ?s geo:long ?Longitudine }\n",
    "optional { ?s cis:hasDiscipline [cis:name ?Disciplina] }\n",
    "optional {\n",
    "?s cis:hasSite [cis:hasAddress ?address ] .\n",
    "optional { ?address cis:fullAddress ?Indirizzo   }\n",
    "optional { ?address cis:postCode ?Codice_postale }\n",
    "optional { ?address cis:postName ?Comune         }\n",
    "optional { ?address cis:adminUnitL2 ?Provincia   }\n",
    "}\n",
    "}\n",
    "order by ?s\n",
    "}\n",
    "limit 5\n",
    "offset 0\n",
    "'''"
   ]
  },
  {
   "cell_type": "code",
   "execution_count": 54,
   "metadata": {},
   "outputs": [],
   "source": [
    "#filter con regex\n",
    "q = '''\n",
    "PREFIX cis: <http://dati.beniculturali.it/cis/>\n",
    "SELECT ?nome ?identifier\n",
    "WHERE {\n",
    "  ?x a cis:CulturalInstituteOrSite ;\n",
    "  cis:identifier ?identifier ;\n",
    "  cis:institutionalName ?nome .FILTER regex(str(?nome), \"Sacro Speco\") .\n",
    "}\n",
    "'''"
   ]
  },
  {
   "cell_type": "code",
   "execution_count": 58,
   "metadata": {},
   "outputs": [],
   "source": [
    "#filter con contains\n",
    "q = '''\n",
    "PREFIX cis: <http://dati.beniculturali.it/cis/>\n",
    "SELECT distinct ?nome ?identifier ?ind ?com\n",
    "WHERE {\n",
    " ?x a cis:CulturalInstituteOrSite ;\n",
    "  cis:institutionalName ?nome ;\n",
    "  cis:identifier ?identifier .\n",
    "  filter contains(?nome, \"Racconigi\"@it) \n",
    "}  \n",
    "'''"
   ]
  },
  {
   "cell_type": "code",
   "execution_count": 60,
   "metadata": {},
   "outputs": [],
   "source": [
    "q_complete= '''\n",
    "construct {?s ?p ?o .} where { ?s ?p ?o . {\n",
    "SELECT DISTINCT ?s WHERE {\n",
    " ?s rdf:type ?t .\n",
    " ?s rdf:type <http://dati.beniculturali.it/cis/CulturalInstituteOrSite>\n",
    " {?s ?p ?o0 . FILTER (bif:contains(?o0, '\"ABBAZIA\"'))}\n",
    " {?s ?p ?o1 . FILTER (bif:contains(?o1, '\"DI\"'))}\n",
    " {?s ?p ?o2 . FILTER (bif:contains(?o2, '\"CASAMARI\"'))}\n",
    "}\n",
    "LIMIT 24\n",
    "OFFSET 0\n",
    "} filter(?p=foaf:depiction || ?p=dc:isReferencedBy || ?p=cis:url || ?p=rdfs:label || ?p=skos:prefLabel || ?p=dc:title || ?p=dct:title || ?p=cis:identifier || ?p=cis:institutionalName) } LIMIT 1000\n",
    "'''"
   ]
  },
  {
   "cell_type": "code",
   "execution_count": 62,
   "metadata": {},
   "outputs": [
    {
     "ename": "AttributeError",
     "evalue": "'ConjunctiveGraph' object has no attribute 'toxml'",
     "output_type": "error",
     "traceback": [
      "\u001b[0;31m---------------------------------------------------------------------------\u001b[0m",
      "\u001b[0;31mAttributeError\u001b[0m                            Traceback (most recent call last)",
      "\u001b[0;32m<ipython-input-62-84887502bf41>\u001b[0m in \u001b[0;36m<module>\u001b[0;34m\u001b[0m\n\u001b[1;32m      3\u001b[0m \u001b[0msparql\u001b[0m\u001b[0;34m.\u001b[0m\u001b[0msetReturnFormat\u001b[0m\u001b[0;34m(\u001b[0m\u001b[0mXML\u001b[0m\u001b[0;34m)\u001b[0m\u001b[0;34m\u001b[0m\u001b[0m\n\u001b[1;32m      4\u001b[0m \u001b[0mresults\u001b[0m \u001b[0;34m=\u001b[0m \u001b[0msparql\u001b[0m\u001b[0;34m.\u001b[0m\u001b[0mquery\u001b[0m\u001b[0;34m(\u001b[0m\u001b[0;34m)\u001b[0m\u001b[0;34m.\u001b[0m\u001b[0mconvert\u001b[0m\u001b[0;34m(\u001b[0m\u001b[0;34m)\u001b[0m\u001b[0;34m\u001b[0m\u001b[0m\n\u001b[0;32m----> 5\u001b[0;31m \u001b[0mprint\u001b[0m\u001b[0;34m(\u001b[0m\u001b[0mresults\u001b[0m\u001b[0;34m.\u001b[0m\u001b[0mtoxml\u001b[0m\u001b[0;34m(\u001b[0m\u001b[0;34m)\u001b[0m\u001b[0;34m)\u001b[0m\u001b[0;34m\u001b[0m\u001b[0m\n\u001b[0m",
      "\u001b[0;31mAttributeError\u001b[0m: 'ConjunctiveGraph' object has no attribute 'toxml'"
     ]
    }
   ],
   "source": [
    "#XML\n",
    "sparql.setQuery(q)\n",
    "sparql.setReturnFormat(XML)\n",
    "results = sparql.query().convert()\n",
    "print(results.toxml())\n"
   ]
  },
  {
   "cell_type": "code",
   "execution_count": 63,
   "metadata": {},
   "outputs": [
    {
     "name": "stderr",
     "output_type": "stream",
     "text": [
      "/Users/mariaclaudiabodino/anaconda3/envs/py35/lib/python3.5/site-packages/SPARQLWrapper/Wrapper.py:684: RuntimeWarning: Sending Accept header '*/*' because unexpected returned format 'json' in a 'CONSTRUCT' SPARQL query form\n",
      "  warnings.warn(\"Sending Accept header '*/*' because unexpected returned format '%s' in a '%s' SPARQL query form\" % (self.returnFormat, self.queryType), RuntimeWarning)\n"
     ]
    },
    {
     "ename": "KeyError",
     "evalue": "'nome'",
     "output_type": "error",
     "traceback": [
      "\u001b[0;31m---------------------------------------------------------------------------\u001b[0m",
      "\u001b[0;31mKeyError\u001b[0m                                  Traceback (most recent call last)",
      "\u001b[0;32m<ipython-input-63-7f524c6c181f>\u001b[0m in \u001b[0;36m<module>\u001b[0;34m\u001b[0m\n\u001b[1;32m      5\u001b[0m \u001b[0;34m\u001b[0m\u001b[0m\n\u001b[1;32m      6\u001b[0m \u001b[0;32mfor\u001b[0m \u001b[0mresult\u001b[0m \u001b[0;32min\u001b[0m \u001b[0mresults\u001b[0m\u001b[0;34m[\u001b[0m\u001b[0;34m\"results\"\u001b[0m\u001b[0;34m]\u001b[0m\u001b[0;34m[\u001b[0m\u001b[0;34m\"bindings\"\u001b[0m\u001b[0;34m]\u001b[0m\u001b[0;34m:\u001b[0m\u001b[0;34m\u001b[0m\u001b[0m\n\u001b[0;32m----> 7\u001b[0;31m     \u001b[0mprint\u001b[0m\u001b[0;34m(\u001b[0m\u001b[0mresult\u001b[0m\u001b[0;34m[\u001b[0m\u001b[0;34m\"nome\"\u001b[0m\u001b[0;34m]\u001b[0m\u001b[0;34m[\u001b[0m\u001b[0;34m\"value\"\u001b[0m\u001b[0;34m]\u001b[0m\u001b[0;34m)\u001b[0m\u001b[0;34m\u001b[0m\u001b[0m\n\u001b[0m\u001b[1;32m      8\u001b[0m     \u001b[0mprint\u001b[0m\u001b[0;34m(\u001b[0m\u001b[0mresult\u001b[0m\u001b[0;34m[\u001b[0m\u001b[0;34m\"identifier\"\u001b[0m\u001b[0;34m]\u001b[0m\u001b[0;34m[\u001b[0m\u001b[0;34m\"value\"\u001b[0m\u001b[0;34m]\u001b[0m\u001b[0;34m)\u001b[0m\u001b[0;34m\u001b[0m\u001b[0m\n",
      "\u001b[0;31mKeyError\u001b[0m: 'nome'"
     ]
    }
   ],
   "source": [
    "#JSON\n",
    "sparql.setQuery(q)\n",
    "sparql.setReturnFormat(JSON)\n",
    "results = sparql.query().convert()\n",
    "\n",
    "for result in results[\"results\"][\"bindings\"]:\n",
    "    print(result[\"nome\"][\"value\"])\n",
    "    print(result[\"identifier\"][\"value\"])"
   ]
  },
  {
   "cell_type": "code",
   "execution_count": 65,
   "metadata": {},
   "outputs": [
    {
     "name": "stdout",
     "output_type": "stream",
     "text": [
      "{'head': {'link': [], 'vars': ['s', 'p', 'o']}, 'results': {'ordered': True, 'bindings': [{'o': {'lang': 'it', 'type': 'literal', 'value': 'Abbazia di Casamari'}, 's': {'type': 'uri', 'value': 'http://dati.beniculturali.it/mibact/luoghi/resource/CulturalInstituteOrSite/20754'}, 'p': {'type': 'uri', 'value': 'http://dati.beniculturali.it/cis/institutionalName'}}, {'o': {'lang': 'it', 'type': 'literal', 'value': \"Museo dell'Abbazia di Casamari\"}, 's': {'type': 'uri', 'value': 'http://dati.beniculturali.it/mibact/luoghi/resource/CulturalInstituteOrSite/101427'}, 'p': {'type': 'uri', 'value': 'http://dati.beniculturali.it/cis/institutionalName'}}, {'o': {'type': 'literal', 'value': 'DBUnico.112086'}, 's': {'type': 'uri', 'value': 'http://dati.beniculturali.it/mibact/luoghi/resource/CulturalInstituteOrSite/112086'}, 'p': {'type': 'uri', 'value': 'http://dati.beniculturali.it/cis/identifier'}}, {'o': {'lang': 'it', 'type': 'literal', 'value': 'Biblioteca statale del Monumento nazionale di Casamari'}, 's': {'type': 'uri', 'value': 'http://dati.beniculturali.it/mibact/luoghi/resource/CulturalInstituteOrSite/112086'}, 'p': {'type': 'uri', 'value': 'http://dati.beniculturali.it/cis/institutionalName'}}, {'o': {'type': 'literal', 'value': 'DBUnico.101427'}, 's': {'type': 'uri', 'value': 'http://dati.beniculturali.it/mibact/luoghi/resource/CulturalInstituteOrSite/101427'}, 'p': {'type': 'uri', 'value': 'http://dati.beniculturali.it/cis/identifier'}}, {'o': {'lang': 'it', 'type': 'literal', 'value': 'Abbazia di Casamari'}, 's': {'type': 'uri', 'value': 'http://dati.beniculturali.it/mibact/luoghi/resource/CulturalInstituteOrSite/20754'}, 'p': {'type': 'uri', 'value': 'http://www.w3.org/2000/01/rdf-schema#label'}}, {'o': {'type': 'uri', 'value': 'http://dbunico20.beniculturali.it/DBUnicoMedia/repository/images/14-04-2014/med/61822862cec8b95ef64f85ebedd26ecca5d9baf.jpg'}, 's': {'type': 'uri', 'value': 'http://dati.beniculturali.it/mibact/luoghi/resource/CulturalInstituteOrSite/112086'}, 'p': {'type': 'uri', 'value': 'http://xmlns.com/foaf/0.1/depiction'}}, {'o': {'lang': 'it', 'type': 'literal', 'value': 'Biblioteca statale del Monumento nazionale di Casamari'}, 's': {'type': 'uri', 'value': 'http://dati.beniculturali.it/mibact/luoghi/resource/CulturalInstituteOrSite/112086'}, 'p': {'type': 'uri', 'value': 'http://www.w3.org/2000/01/rdf-schema#label'}}, {'o': {'type': 'uri', 'value': 'http://dbunico20.beniculturali.it/DBUnicoMedia/repository/images/01-10-2012/med/afae0b9128134e8f5726491804e61962337b1a4.jpg'}, 's': {'type': 'uri', 'value': 'http://dati.beniculturali.it/mibact/luoghi/resource/CulturalInstituteOrSite/101427'}, 'p': {'type': 'uri', 'value': 'http://xmlns.com/foaf/0.1/depiction'}}, {'o': {'lang': 'it', 'type': 'literal', 'value': \"Museo dell'Abbazia di Casamari\"}, 's': {'type': 'uri', 'value': 'http://dati.beniculturali.it/mibact/luoghi/resource/CulturalInstituteOrSite/101427'}, 'p': {'type': 'uri', 'value': 'http://www.w3.org/2000/01/rdf-schema#label'}}, {'o': {'type': 'uri', 'value': 'http://dbunico20.beniculturali.it/DBUnicoMedia/repository/images/01-02-2017/med/6e8bc19ac23383df74b2bc408ec7ecc95d8c452.jpg'}, 's': {'type': 'uri', 'value': 'http://dati.beniculturali.it/mibact/luoghi/resource/CulturalInstituteOrSite/20754'}, 'p': {'type': 'uri', 'value': 'http://xmlns.com/foaf/0.1/depiction'}}, {'o': {'type': 'literal', 'value': 'DBUnico.20754'}, 's': {'type': 'uri', 'value': 'http://dati.beniculturali.it/mibact/luoghi/resource/CulturalInstituteOrSite/20754'}, 'p': {'type': 'uri', 'value': 'http://dati.beniculturali.it/cis/identifier'}}], 'distinct': False}}\n"
     ]
    }
   ],
   "source": [
    "#JSON\n",
    "sparql.setQuery(q_complete)\n",
    "sparql.setReturnFormat(JSON)\n",
    "results = sparql.query().convert()\n",
    "\n",
    "print (results)"
   ]
  },
  {
   "cell_type": "code",
   "execution_count": null,
   "metadata": {},
   "outputs": [],
   "source": []
  }
 ],
 "metadata": {
  "kernelspec": {
   "display_name": "Python py35)",
   "language": "python",
   "name": "py35"
  },
  "language_info": {
   "codemirror_mode": {
    "name": "ipython",
    "version": 3
   },
   "file_extension": ".py",
   "mimetype": "text/x-python",
   "name": "python",
   "nbconvert_exporter": "python",
   "pygments_lexer": "ipython3",
   "version": "3.5.5"
  }
 },
 "nbformat": 4,
 "nbformat_minor": 2
}
