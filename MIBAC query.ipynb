{
 "cells": [
  {
   "cell_type": "markdown",
   "metadata": {},
   "source": [
    "**Mibac Sparql**\n",
    "\n",
    "http://dati.beniculturali.it/sparql\n",
    "\n",
    "es: Monastero di San Benedetto Sacro Speco\n",
    "http://dati.beniculturali.it/lodview/mibact/luoghi/resource/CulturalInstituteOrSite/20359.html\n",
    "\n",
    "Query esempio: http://dati.beniculturali.it/endpoint-sparql/query-di-esempio/\n",
    "\n",
    "\n",
    "**SPARQL wrapper**\n",
    "\n",
    "https://github.com/RDFLib/sparqlwrapper\n",
    "\n",
    "https://rdflib.github.io/sparqlwrapper/\n",
    "\n"
   ]
  },
  {
   "cell_type": "code",
   "execution_count": 54,
   "metadata": {},
   "outputs": [],
   "source": [
    "from SPARQLWrapper import SPARQLWrapper, JSON, XML "
   ]
  },
  {
   "cell_type": "code",
   "execution_count": 55,
   "metadata": {},
   "outputs": [],
   "source": [
    "ep = \"http://dati.beniculturali.it/sparql\""
   ]
  },
  {
   "cell_type": "code",
   "execution_count": 58,
   "metadata": {},
   "outputs": [],
   "source": [
    "sparql = SPARQLWrapper(ep)"
   ]
  },
  {
   "cell_type": "code",
   "execution_count": 33,
   "metadata": {},
   "outputs": [],
   "source": [
    "q = \"\"\"SELECT ?s ?nome ?provincia \n",
    "WHERE {\n",
    " ?s rdf:type cis:HolderOfArchive .\n",
    " ?s rdfs:label ?nome .\n",
    " ?s cis:hasSite ?location .\n",
    " ?location cis:hasAddress ?location2 .\n",
    " ?location2 cis:adminUnitL2 ?provincia .\n",
    " FILTER( (?provincia= \"Milano\") || \n",
    " (?provincia= \"Brescia\") || \n",
    " (?provincia= \"Bergamo\") || \n",
    " (?provincia= \"Como\") || \n",
    " (?provincia= \"Cremona\") || \n",
    " (?provincia= \"Lecco\") || \n",
    " (?provincia= \"Lodi\") ||\n",
    " (?provincia= \"Pavia\") ||\n",
    " (?provincia= \"Mantova\") ||\n",
    " (?provincia= \"Sondrio\") || \n",
    " (?provincia= \"Varese\") || \n",
    " (?provincia= \"Monza e della Brianza\"))\n",
    "}\n",
    "ORDER BY ?provincia \"\"\"\n"
   ]
  },
  {
   "cell_type": "code",
   "execution_count": 56,
   "metadata": {},
   "outputs": [],
   "source": [
    "q = '''select * where {\n",
    "\n",
    "select distinct ?s as ?subject\n",
    "\n",
    "?Nome_Istituzionale\n",
    "?Descrizione\n",
    "?ISILIdentifier\n",
    "?Latitudine\n",
    "?Longitudine\n",
    "?Disciplina\n",
    "?Indirizzo\n",
    "?Codice_postale\n",
    "?Comune\n",
    "?Provincia\n",
    "where {\n",
    "\n",
    "graph <http://dati.beniculturali.it/mibact/luoghi> {\n",
    "\n",
    "?s rdf:type cis:CulturalInstituteOrSite ;\n",
    "cis:institutionalName ?Nome_Istituzionale .\n",
    "optional { ?s cis:description ?Descrizione }\n",
    "optional { ?s cis:ISILIdentifier ?ISILIdentifier }\n",
    "optional { ?s geo:lat ?Latitudine }\n",
    "optional { ?s geo:long ?Longitudine }\n",
    "optional { ?s cis:hasDiscipline [cis:name ?Disciplina] }\n",
    "optional {\n",
    "?s cis:hasSite [cis:hasAddress ?address ] .\n",
    "optional { ?address cis:fullAddress ?Indirizzo   }\n",
    "optional { ?address cis:postCode ?Codice_postale }\n",
    "optional { ?address cis:postName ?Comune         }\n",
    "optional { ?address cis:adminUnitL2 ?Provincia   }\n",
    "}\n",
    "}\n",
    "order by ?s\n",
    "}\n",
    "limit 5\n",
    "offset 0\n",
    "'''"
   ]
  },
  {
   "cell_type": "code",
   "execution_count": 51,
   "metadata": {},
   "outputs": [],
   "source": [
    "q = '''\n",
    "PREFIX cis: <http://dati.beniculturali.it/cis/>\n",
    "SELECT distinct ?nome ?identifier ?ind ?com\n",
    "WHERE {\n",
    " ?x a cis:CulturalInstituteOrSite ;\n",
    "  cis:institutionalName ?nome ;\n",
    "  cis:identifier ?identifier ;\n",
    "  cis:hasSite ?site .\n",
    " ?site cis:hasAddress ?address .\n",
    " ?address cis:postName ?com ;\n",
    "  cis:fullAddress ?ind .\n",
    "  FILTER (?nome= \"Monastero di San Benedetto Sacro Speco\"@it) \n",
    "} \n",
    "'''"
   ]
  },
  {
   "cell_type": "code",
   "execution_count": 57,
   "metadata": {},
   "outputs": [],
   "source": [
    "#filter con contains\n",
    "q = '''\n",
    "PREFIX cis: <http://dati.beniculturali.it/cis/>\n",
    "SELECT distinct ?nome ?identifier ?ind ?com\n",
    "WHERE {\n",
    " ?x a cis:CulturalInstituteOrSite ;\n",
    "  cis:institutionalName ?nome ;\n",
    "  cis:identifier ?identifier ;\n",
    "  cis:hasSite ?site .\n",
    " ?site cis:hasAddress ?address .\n",
    " ?address cis:postName ?com ;\n",
    "  cis:fullAddress ?ind .\n",
    "  filter contains(?nome, \"Sacro Speco\"@it) \n",
    "} \n",
    "'''"
   ]
  },
  {
   "cell_type": "code",
   "execution_count": 59,
   "metadata": {},
   "outputs": [
    {
     "name": "stdout",
     "output_type": "stream",
     "text": [
      "<?xml version=\"1.0\" ?><sparql xmlns=\"http://www.w3.org/2005/sparql-results#\" xmlns:xsi=\"http://www.w3.org/2001/XMLSchema-instance\" xsi:schemaLocation=\"http://www.w3.org/2001/sw/DataAccess/rf1/result2.xsd\">\n",
      " <head>\n",
      "  <variable name=\"nome\"/>\n",
      "  <variable name=\"identifier\"/>\n",
      "  <variable name=\"ind\"/>\n",
      "  <variable name=\"com\"/>\n",
      " </head>\n",
      " <results distinct=\"false\" ordered=\"true\">\n",
      "  <result>\n",
      "   <binding name=\"nome\"><literal xml:lang=\"it\">Monastero di San Benedetto Sacro Speco</literal></binding>\n",
      "   <binding name=\"identifier\"><literal>DBUnico.20359</literal></binding>\n",
      "   <binding name=\"ind\"><literal>piazzale San Benedetto - Subiaco</literal></binding>\n",
      "   <binding name=\"com\"><literal>Subiaco</literal></binding>\n",
      "  </result>\n",
      " </results>\n",
      "</sparql>\n"
     ]
    }
   ],
   "source": [
    "sparql.setQuery(q)\n",
    "sparql.setReturnFormat(XML)\n",
    "results = sparql.query().convert()\n",
    "results = sparql.query().convert()\n",
    "print(results.toxml())\n"
   ]
  },
  {
   "cell_type": "code",
   "execution_count": 61,
   "metadata": {},
   "outputs": [
    {
     "name": "stdout",
     "output_type": "stream",
     "text": [
      "{'ind': {'type': 'literal', 'value': 'piazzale San Benedetto - Subiaco'}, 'nome': {'type': 'literal', 'xml:lang': 'it', 'value': 'Monastero di San Benedetto Sacro Speco'}, 'identifier': {'type': 'literal', 'value': 'DBUnico.20359'}, 'com': {'type': 'literal', 'value': 'Subiaco'}}\n"
     ]
    }
   ],
   "source": [
    "sparql.setQuery(q)\n",
    "sparql.setReturnFormat(JSON)\n",
    "results = sparql.query().convert()\n",
    "\n",
    "for result in results[\"results\"][\"bindings\"]:\n",
    "    print(result)"
   ]
  },
  {
   "cell_type": "code",
   "execution_count": 62,
   "metadata": {},
   "outputs": [
    {
     "name": "stdout",
     "output_type": "stream",
     "text": [
      "Asturias\n",
      "منطقة أستورياس\n",
      "Asturien\n",
      "Asturias\n",
      "Asturies\n",
      "Asturie\n",
      "アストゥリアス州\n",
      "Asturië (regio)\n",
      "Asturia\n",
      "Astúrias\n",
      "Астурия\n",
      "阿斯图里亚斯\n"
     ]
    }
   ],
   "source": [
    "#DBPEDIA\n",
    "sparql = SPARQLWrapper(\"http://dbpedia.org/sparql\")\n",
    "sparql.setQuery(\"\"\"\n",
    "    PREFIX rdfs: <http://www.w3.org/2000/01/rdf-schema#>\n",
    "    SELECT ?label\n",
    "    WHERE { <http://dbpedia.org/resource/Asturias> rdfs:label ?label }\n",
    "\"\"\")\n",
    "sparql.setReturnFormat(JSON)\n",
    "results = sparql.query().convert()\n",
    "\n",
    "for result in results[\"results\"][\"bindings\"]:\n",
    "    print(result[\"label\"][\"value\"])"
   ]
  },
  {
   "cell_type": "code",
   "execution_count": null,
   "metadata": {},
   "outputs": [],
   "source": []
  }
 ],
 "metadata": {
  "kernelspec": {
   "display_name": "Python py35)",
   "language": "python",
   "name": "py35"
  },
  "language_info": {
   "codemirror_mode": {
    "name": "ipython",
    "version": 3
   },
   "file_extension": ".py",
   "mimetype": "text/x-python",
   "name": "python",
   "nbconvert_exporter": "python",
   "pygments_lexer": "ipython3",
   "version": "3.5.5"
  }
 },
 "nbformat": 4,
 "nbformat_minor": 2
}
